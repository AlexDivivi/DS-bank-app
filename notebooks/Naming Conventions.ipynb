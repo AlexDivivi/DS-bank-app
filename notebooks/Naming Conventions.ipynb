{
 "cells": [
  {
   "cell_type": "markdown",
   "metadata": {},
   "source": [
    "# Naming Conventions\n",
    "\n",
    "Namenskonventionen sind Festlegungen/Vorschriften/Empfehlungen für Programmierer, Datenbankentwickler etc. zur Benennung von Bezeichnern (Namen) für Objekte im Quelltext von Software. Durch ihre Anwendung sollen die Namen dieser Objekte – im Rahmen der Syntaxbestimmungen der Programmiersprache und auch programm-übergreifend – nach einheitlichen Regeln gebildet werden, wodurch das Software-Qualitätsmerkmal Änderbarkeit (Wartbarkeit) durch einfacheres Verstehen des Programmtextes unterstützt wird.\n",
    "\n",
    "Derartige Regelungen gelten – meist unternehmens- oder projektspezifisch – grundsätzlich für alle in der Programmierung verwendeten Konstrukte – wie Datenfelder (Variablen, Konstanten), Objekte, Funktionen, Typen, Klassen, Module, Prozeduren, Befehlstextabschnitte etc. und sollen zu „lesbarem Code“ beitragen.\n",
    "\n",
    "Ähnliche Konventionen (sie werden fast immer mit dem Plural bezeichnet) gibt es zum Einrückungsstil und zum Einfügen von Kommentaren in den Quelltext von Programmen.\n",
    "\n",
    "Namenskonventionen sind strukturell/methodisch ein Teil der Programmierrichtlinien und bestimmen u. a. den Programmierstil für den Programmcode. Sie können je nach Situation/Unternehmen verbindlich vorgegeben oder zur freiwilligen Anwendung formuliert sein.\n",
    "\n",
    "https://de.wikipedia.org/wiki/Namenskonvention_(Datenverarbeitung)"
   ]
  },
  {
   "cell_type": "markdown",
   "metadata": {},
   "source": [
    "## Python\n",
    "\n",
    "### General\n",
    "- Avoid using names that are too general or too wordy. Strike a good balance between the two.\n",
    "  - Bad: `data_structure`, `my_list`, `info_map`, `dictionary_for_the_purpose_of_storing_data_representing_word_definitions`\n",
    "  - Good: `user_profile`, `menu_options, word_definitions`\n",
    "- Don’t be a jackass and name things “O”, “l”, or “I”\n",
    "- When using CamelCase names, capitalize all letters of an abbreviation (e.g. HTTPServer)\n",
    "\n",
    "### Packages\n",
    "- Package names should be all lower case\n",
    "- When multiple words are needed, an underscore should separate them\n",
    "- It is usually preferable to stick to 1 word names\n",
    "\n",
    "### Modules\n",
    "- Module names should be all lower case\n",
    "- When multiple words are needed, an underscore should separate them\n",
    "- It is usually preferable to stick to 1 word names\n",
    "\n",
    "### Classes\n",
    "- Class names should follow the `UpperCaseCamelCase` convention\n",
    "- Python’s built-in classes, however are typically lowercase words\n",
    "- Exception classes should end in “Error”\n",
    "\n",
    "### Global (module-level) Variables\n",
    "- Global variables should be all lowercase\n",
    "- Words in a global variable name should be separated by an underscore\n",
    "\n",
    "### Instance Variables\n",
    "- Instance variable names should be all lower case\n",
    "- Words in an instance variable name should be separated by an underscore\n",
    "- Non-public instance variables should begin with a single underscore\n",
    "- If an instance name needs to be mangled, two underscores may begin its name\n",
    "\n",
    "### Methods\n",
    "- Method names should be all lower case\n",
    "- Words in an method name should be separated by an underscore\n",
    "- Non-public method should begin with a single underscore\n",
    "- If a method name needs to be mangled, two underscores may begin its name\n",
    "\n",
    "### Method Arguments\n",
    "- Instance methods should have their first argument named ‘self’.\n",
    "- Class methods should have their first argument named ‘cls’\n",
    "\n",
    "### Functions\n",
    "- Function names should be all lower case\n",
    "- Words in a function name should be separated by an underscore\n",
    "\n",
    "### Constants\n",
    "- Constant names must be fully capitalized\n",
    "- Words in a constant name should be separated by an underscore\n",
    "\n",
    "https://visualgit.readthedocs.io/en/latest/pages/naming_convention.html\n",
    "\n",
    "https://www.python.org/dev/peps/pep-0008/#naming-conventions"
   ]
  },
  {
   "cell_type": "code",
   "execution_count": null,
   "metadata": {},
   "outputs": [],
   "source": []
  }
 ],
 "metadata": {
  "kernelspec": {
   "display_name": "Python 3",
   "language": "python",
   "name": "python3"
  },
  "language_info": {
   "codemirror_mode": {
    "name": "ipython",
    "version": 3
   },
   "file_extension": ".py",
   "mimetype": "text/x-python",
   "name": "python",
   "nbconvert_exporter": "python",
   "pygments_lexer": "ipython3",
   "version": "3.6.8"
  }
 },
 "nbformat": 4,
 "nbformat_minor": 2
}

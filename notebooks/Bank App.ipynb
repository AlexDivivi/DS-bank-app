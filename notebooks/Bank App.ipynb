{
 "cells": [
  {
   "cell_type": "code",
   "execution_count": 57,
   "metadata": {},
   "outputs": [
    {
     "name": "stdout",
     "output_type": "stream",
     "text": [
      "The autoreload extension is already loaded. To reload it, use:\n",
      "  %reload_ext autoreload\n"
     ]
    }
   ],
   "source": [
    "%load_ext autoreload\n",
    "%autoreload 2"
   ]
  },
  {
   "cell_type": "code",
   "execution_count": 58,
   "metadata": {},
   "outputs": [],
   "source": [
    "from app import Bank"
   ]
  },
  {
   "cell_type": "code",
   "execution_count": 59,
   "metadata": {},
   "outputs": [
    {
     "name": "stdout",
     "output_type": "stream",
     "text": [
      "3\n"
     ]
    }
   ],
   "source": [
    "bank = Bank('DKB')\n",
    "peter = {'number': 0, 'firstname': 'Hans', 'lastname': 'Peter'}\n",
    "muster = {'number': 0, 'firstname': 'Max', 'lastname': 'Muster'}\n",
    "guy = {'number': 0, 'firstname': 'Some', 'lastname': 'Guy'}\n",
    "accounts = [peter, muster, guy]\n",
    "i = 1\n",
    "\n",
    "for acc in accounts:\n",
    "    acc['number'] = i\n",
    "    bank.open_account(acc)\n",
    "    i = i + 1\n",
    "\n",
    "print(len(bank.accounts))"
   ]
  },
  {
   "cell_type": "code",
   "execution_count": 60,
   "metadata": {},
   "outputs": [
    {
     "data": {
      "text/plain": [
       "{'sender': {'number': 2, 'firstname': 'Max', 'lastname': 'Muster'},\n",
       " 'recipient': {'number': 1, 'firstname': 'Hans', 'lastname': 'Peter'},\n",
       " 'subject': 'cookies',\n",
       " 'amount': 23}"
      ]
     },
     "execution_count": 60,
     "metadata": {},
     "output_type": "execute_result"
    }
   ],
   "source": [
    "bank.add_transaction(sender=muster, recipient=peter, subject='cookies', amount=23)"
   ]
  },
  {
   "cell_type": "code",
   "execution_count": 61,
   "metadata": {},
   "outputs": [
    {
     "name": "stdout",
     "output_type": "stream",
     "text": [
      "Bank: DKB\n",
      "Accounts: [{'number': 1, 'firstname': 'Hans', 'lastname': 'Peter'}, {'number': 2, 'firstname': 'Max', 'lastname': 'Muster'}, {'number': 3, 'firstname': 'Some', 'lastname': 'Guy'}]\n",
      "Transactions: [{'sender': {'number': 2, 'firstname': 'Max', 'lastname': 'Muster'}, 'recipient': {'number': 1, 'firstname': 'Hans', 'lastname': 'Peter'}, 'subject': 'cookies', 'amount': 23}]\n"
     ]
    }
   ],
   "source": [
    "print(f'Bank: {bank.name}')\n",
    "print(f'Accounts: {bank.accounts}')\n",
    "print(f'Transactions: {bank.transactions}')"
   ]
  },
  {
   "cell_type": "code",
   "execution_count": 56,
   "metadata": {},
   "outputs": [],
   "source": [
    "bank.accounts = []\n",
    "bank.transactions = []"
   ]
  },
  {
   "cell_type": "code",
   "execution_count": null,
   "metadata": {},
   "outputs": [],
   "source": []
  }
 ],
 "metadata": {
  "kernelspec": {
   "display_name": "Python 3",
   "language": "python",
   "name": "python3"
  },
  "language_info": {
   "codemirror_mode": {
    "name": "ipython",
    "version": 3
   },
   "file_extension": ".py",
   "mimetype": "text/x-python",
   "name": "python",
   "nbconvert_exporter": "python",
   "pygments_lexer": "ipython3",
   "version": "3.6.8"
  }
 },
 "nbformat": 4,
 "nbformat_minor": 2
}

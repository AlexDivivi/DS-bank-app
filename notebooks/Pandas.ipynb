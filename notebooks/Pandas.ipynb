{
 "cells": [
  {
   "cell_type": "code",
   "execution_count": null,
   "metadata": {},
   "outputs": [],
   "source": [
    "import pandas as pd"
   ]
  },
  {
   "cell_type": "code",
   "execution_count": null,
   "metadata": {},
   "outputs": [],
   "source": [
    "# initial_data = [\n",
    "#     {'id': 1, 'firstname': 'Manuel', 'lastname': 'Wiedenmann', 'balance': 50.0},\n",
    "# ]\n",
    "accounts = pd.DataFrame(columns=['id', 'firstname', 'lastname', 'balance'])\n",
    "\n",
    "data = [\n",
    "    {'id': 1, 'firstname': 'Manuel', 'lastname': 'Wiedenmann', 'balance': 50.0},\n",
    "    {'id': 2, 'firstname': 'Matthias', 'lastname': 'Rettenmeier', 'balance': 100.0},\n",
    "    {'id': 3, 'firstname': 'Matthias', 'lastname': 'Rettenmeier', 'balance': 20.0},\n",
    "]\n",
    "\n",
    "for value in data:\n",
    "    accounts = accounts.append(value, ignore_index=True)\n",
    "\n",
    "accounts.to_csv('../data/bank/accounts.csv')"
   ]
  },
  {
   "cell_type": "code",
   "execution_count": null,
   "metadata": {},
   "outputs": [],
   "source": [
    "accounts.head()"
   ]
  },
  {
   "cell_type": "code",
   "execution_count": null,
   "metadata": {},
   "outputs": [],
   "source": [
    "accounts.info()"
   ]
  },
  {
   "cell_type": "code",
   "execution_count": null,
   "metadata": {},
   "outputs": [],
   "source": [
    "accounts.index"
   ]
  },
  {
   "cell_type": "code",
   "execution_count": null,
   "metadata": {},
   "outputs": [],
   "source": [
    "accounts.shape"
   ]
  },
  {
   "cell_type": "code",
   "execution_count": null,
   "metadata": {},
   "outputs": [],
   "source": [
    "accounts.columns"
   ]
  },
  {
   "cell_type": "code",
   "execution_count": null,
   "metadata": {},
   "outputs": [],
   "source": [
    "accounts.dtypes"
   ]
  },
  {
   "cell_type": "code",
   "execution_count": null,
   "metadata": {},
   "outputs": [],
   "source": [
    "accounts['id']"
   ]
  },
  {
   "cell_type": "code",
   "execution_count": null,
   "metadata": {},
   "outputs": [],
   "source": [
    "accounts['firstname']"
   ]
  },
  {
   "cell_type": "code",
   "execution_count": null,
   "metadata": {},
   "outputs": [],
   "source": [
    "accounts['lastname']"
   ]
  },
  {
   "cell_type": "code",
   "execution_count": null,
   "metadata": {},
   "outputs": [],
   "source": [
    "accounts['balance']"
   ]
  },
  {
   "cell_type": "code",
   "execution_count": null,
   "metadata": {},
   "outputs": [],
   "source": [
    "accounts.describe()"
   ]
  },
  {
   "cell_type": "code",
   "execution_count": null,
   "metadata": {},
   "outputs": [],
   "source": [
    "accounts['id'] = accounts['id'].astype('int')"
   ]
  },
  {
   "cell_type": "code",
   "execution_count": null,
   "metadata": {},
   "outputs": [],
   "source": [
    "accounts.dtypes"
   ]
  },
  {
   "cell_type": "code",
   "execution_count": null,
   "metadata": {},
   "outputs": [],
   "source": [
    "accounts.info()"
   ]
  },
  {
   "cell_type": "code",
   "execution_count": null,
   "metadata": {},
   "outputs": [],
   "source": [
    "accounts.describe()"
   ]
  },
  {
   "cell_type": "code",
   "execution_count": null,
   "metadata": {},
   "outputs": [],
   "source": [
    "accounts"
   ]
  },
  {
   "cell_type": "markdown",
   "metadata": {},
   "source": [
    "## Transactions"
   ]
  },
  {
   "cell_type": "code",
   "execution_count": null,
   "metadata": {},
   "outputs": [],
   "source": [
    "import datetime\n",
    "import random\n",
    "import time\n",
    "import uuid"
   ]
  },
  {
   "cell_type": "code",
   "execution_count": null,
   "metadata": {},
   "outputs": [],
   "source": [
    "def random_timestamp():\n",
    "    days = random.randint(1,365)\n",
    "    now = datetime.datetime.utcnow()\n",
    "    delta = datetime.timedelta(days=days)\n",
    "    return now - delta\n",
    "\n",
    "def short_uuid():\n",
    "    return str(uuid.uuid4())[:8]"
   ]
  },
  {
   "cell_type": "code",
   "execution_count": null,
   "metadata": {},
   "outputs": [],
   "source": [
    "initial_data = [\n",
    "    {'id': short_uuid(), 'sender_id': 3, 'recipient_id': 2, 'amount': 15.0, 'subject': '', 'category': '', 'timestamp': random_timestamp()},\n",
    "]\n",
    "    \n",
    "transactions = pd.DataFrame(data=initial_data, columns=['id', 'sender_id', 'recipient_id', 'amount', 'subject', 'category', 'timestamp'])\n",
    "\n",
    "data = [\n",
    "    {'id': short_uuid(), 'sender_id': 1, 'recipient_id': 2, 'amount': 10.0, 'subject': '', 'category': '', 'timestamp': random_timestamp()},\n",
    "    {'id': short_uuid(), 'sender_id': 1, 'recipient_id': 3, 'amount': 5.0, 'subject': '', 'category': '', 'timestamp': random_timestamp()},\n",
    "    {'id': short_uuid(), 'sender_id': 2, 'recipient_id': 1, 'amount': 20.0, 'subject': '', 'category': '', 'timestamp': random_timestamp()},\n",
    "    {'id': short_uuid(), 'sender_id': 3, 'recipient_id': 1, 'amount': 20.0, 'subject': '', 'category': '', 'timestamp': random_timestamp()},\n",
    "]\n",
    "\n",
    "for value in data:\n",
    "    transactions = transactions.append(value, ignore_index=True)\n",
    "    \n",
    "accounts.to_csv('../data/bank/transactions.csv')"
   ]
  },
  {
   "cell_type": "code",
   "execution_count": null,
   "metadata": {},
   "outputs": [],
   "source": [
    "transactions"
   ]
  },
  {
   "cell_type": "code",
   "execution_count": null,
   "metadata": {},
   "outputs": [],
   "source": [
    "transactions.info()"
   ]
  },
  {
   "cell_type": "code",
   "execution_count": null,
   "metadata": {},
   "outputs": [],
   "source": [
    "transactions.describe()"
   ]
  },
  {
   "cell_type": "code",
   "execution_count": null,
   "metadata": {},
   "outputs": [],
   "source": [
    "transactions.sort_values('amount')"
   ]
  },
  {
   "cell_type": "code",
   "execution_count": null,
   "metadata": {},
   "outputs": [],
   "source": [
    "transactions"
   ]
  },
  {
   "cell_type": "markdown",
   "metadata": {},
   "source": [
    "### .loc[]\n",
    "\n",
    "http://pandas.pydata.org/pandas-docs/version/0.24/reference/api/pandas.DataFrame.loc.html\n",
    "\n",
    "> **Warning** Note that contrary to usual python slices, both the start and the stop are included"
   ]
  },
  {
   "cell_type": "code",
   "execution_count": null,
   "metadata": {},
   "outputs": [],
   "source": [
    "# Gibt uns die Liste aller amounts\n",
    "transactions.loc[:, 'amount'] # äquivalent zu transactions['amount']"
   ]
  },
  {
   "cell_type": "code",
   "execution_count": null,
   "metadata": {},
   "outputs": [],
   "source": [
    "# Gibt uns die Liste der ersten zwei amounts\n",
    "transactions.loc[0:1, 'amount']"
   ]
  },
  {
   "cell_type": "code",
   "execution_count": null,
   "metadata": {},
   "outputs": [],
   "source": [
    "# Gibt uns die Liste der letzten zwei amounts\n",
    "transactions.loc[3:4, 'amount']"
   ]
  },
  {
   "cell_type": "code",
   "execution_count": null,
   "metadata": {},
   "outputs": [],
   "source": [
    "# Gibt uns die Liste ab dem 2. bis zum 4. amount\n",
    "transactions.loc[1:3, 'amount']"
   ]
  },
  {
   "cell_type": "code",
   "execution_count": null,
   "metadata": {},
   "outputs": [],
   "source": [
    "# Gibt uns die Liste ab dem 3. amount bis zum Ende\n",
    "transactions.loc[2:, 'amount']"
   ]
  },
  {
   "cell_type": "code",
   "execution_count": null,
   "metadata": {},
   "outputs": [],
   "source": [
    "# Gibt uns die Liste vom Anfang bis zum 4. amount\n",
    "transactions.loc[:3, 'amount']"
   ]
  },
  {
   "cell_type": "markdown",
   "metadata": {},
   "source": [
    "## .loc[] als Filter"
   ]
  },
  {
   "cell_type": "code",
   "execution_count": null,
   "metadata": {},
   "outputs": [],
   "source": [
    "# Gibt uns die Anzahl aller Transaktionen mit dem amount == 20\n",
    "len(transactions.loc[transactions['amount'] == 20])"
   ]
  },
  {
   "cell_type": "code",
   "execution_count": null,
   "metadata": {},
   "outputs": [],
   "source": [
    "# Gibt uns die rows/Transaktionen mit dem amount == 20\n",
    "transactions.loc[transactions['amount'] == 20]"
   ]
  },
  {
   "cell_type": "code",
   "execution_count": null,
   "metadata": {},
   "outputs": [],
   "source": [
    "# Gibt uns die Anzahl aller Transactionen mit dem amount < 20\n",
    "len(transactions.loc[transactions['amount'] < 20])"
   ]
  },
  {
   "cell_type": "code",
   "execution_count": null,
   "metadata": {},
   "outputs": [],
   "source": [
    "transactions.loc[transactions['amount'] < 20]"
   ]
  },
  {
   "cell_type": "code",
   "execution_count": null,
   "metadata": {},
   "outputs": [],
   "source": [
    "# Gibt uns die Anzahl aller Transactionen mit dem amount == 7\n",
    "len(transactions.loc[transactions['amount'] == 7])"
   ]
  },
  {
   "cell_type": "code",
   "execution_count": null,
   "metadata": {},
   "outputs": [],
   "source": [
    "transactions.loc[transactions['amount'] == 7]"
   ]
  },
  {
   "cell_type": "code",
   "execution_count": null,
   "metadata": {},
   "outputs": [],
   "source": []
  }
 ],
 "metadata": {
  "kernelspec": {
   "display_name": "Python 3",
   "language": "python",
   "name": "python3"
  },
  "language_info": {
   "codemirror_mode": {
    "name": "ipython",
    "version": 3
   },
   "file_extension": ".py",
   "mimetype": "text/x-python",
   "name": "python",
   "nbconvert_exporter": "python",
   "pygments_lexer": "ipython3",
   "version": "3.6.8"
  }
 },
 "nbformat": 4,
 "nbformat_minor": 2
}
